{
 "cells": [
  {
   "cell_type": "markdown",
   "id": "b25b43fe",
   "metadata": {},
   "source": [
    "# Project: Youtube Analyzer\n",
    "## Authors: Karmehr Arora, Alfred Koh"
   ]
  },
  {
   "cell_type": "markdown",
   "id": "ce0a5029",
   "metadata": {},
   "source": [
    "### Project Overview\n",
    "Data: Youtube API’s\n",
    "GUI: Tkinter\n",
    "\n",
    "Roles:\n",
    "\n",
    "    Karmehr: Accessing Data from the API & organizing it\n",
    "\n",
    "    Alfred: Analyzing the data & representing it with tkinter\n",
    "\n",
    "Goal: \n",
    "Finding the top 10 trending basketball videos (or videos of a requested topic) in the last 24 hours\n",
    "Look for the most (total likes + total comments + total shares) under tag = basketball in the last 24 hours\n",
    "\n",
    "Limitations: \n",
    "Estimated limit of searches of 50 per day due to Youtube API usage restrictions\n"
   ]
  },
  {
   "cell_type": "code",
   "execution_count": 114,
   "id": "5b3f6157",
   "metadata": {},
   "outputs": [],
   "source": [
    "# import utilized libraries pertaining to data collection\n",
    "import google_auth_oauthlib.flow\n",
    "import googleapiclient.discovery\n",
    "import googleapiclient.errors"
   ]
  },
  {
   "cell_type": "code",
   "execution_count": 115,
   "id": "a97a41b4",
   "metadata": {},
   "outputs": [
    {
     "name": "stdout",
     "output_type": "stream",
     "text": [
      "Enter your API Key:········\n"
     ]
    }
   ],
   "source": [
    "# get access key to API\n",
    "# don't push to github, but hardcode for demo\n",
    "from getpass import getpass\n",
    "API_KEY = getpass('Enter your API Key:')"
   ]
  },
  {
   "cell_type": "code",
   "execution_count": 116,
   "id": "0475ca7e",
   "metadata": {},
   "outputs": [],
   "source": [
    "# define the api service and version\n",
    "api_service_name = 'youtube'\n",
    "api_version = 'v3'"
   ]
  },
  {
   "cell_type": "markdown",
   "id": "b89a6d3a",
   "metadata": {},
   "source": [
    "## Requesting User to choose topic\n",
    "default to basketball as topic if user has error/opts out of entering topic"
   ]
  },
  {
   "cell_type": "code",
   "execution_count": 117,
   "id": "ed59e5dc",
   "metadata": {},
   "outputs": [
    {
     "name": "stdout",
     "output_type": "stream",
     "text": [
      "\n"
     ]
    }
   ],
   "source": [
    "# request user for topic (default = 'basketball')\n",
    "topic = 'basketball'\n",
    "topic = input()"
   ]
  },
  {
   "cell_type": "markdown",
   "id": "9f7fd0e5",
   "metadata": {},
   "source": [
    "## Search youtube for videos with that tag"
   ]
  },
  {
   "cell_type": "code",
   "execution_count": 140,
   "id": "cc9c5bff",
   "metadata": {},
   "outputs": [],
   "source": [
    "# access the youtube api client\n",
    "youtube = googleapiclient.discovery.build(api_service_name, api_version, developerKey = API_KEY)\n",
    "\n",
    "# make a request to the api to find videos under that topic\n",
    "# note: cost of this operation is 100 units of the alloted 10,000 units per 24 hours\n",
    "request = youtube.search().list(\n",
    "        part=\"id,snippet\",\n",
    "        maxResults=50,\n",
    "        q=topic\n",
    "    )"
   ]
  },
  {
   "cell_type": "code",
   "execution_count": 141,
   "id": "1540acdf",
   "metadata": {},
   "outputs": [],
   "source": [
    "# execute the query in the request\n",
    "response = request.execute()"
   ]
  },
  {
   "cell_type": "code",
   "execution_count": 188,
   "id": "f688a610",
   "metadata": {},
   "outputs": [
    {
     "name": "stdout",
     "output_type": "stream",
     "text": [
      "Search ID:  {'kind': 'youtube#video', 'videoId': 'A-Ja3fXfpuM'}\n",
      "\n",
      "Snippet Data: {'publishedAt': '2023-11-05T03:38:45Z', 'channelId': 'UC52N5l5eQWtk05YMJNdIAfg', 'title': 'Summer Nostalgia - Dua Lipa, Avicii, David Guetta, Kygo, Calvin Harris, Alesso, One Republic, Flume', 'description': 'Summer Nostalgia - Dua Lipa, Avicii, David Guetta, Kygo, Calvin Harris, Alesso, One Republic, Flume Summer Nostalgia - Dua ...', 'thumbnails': {'default': {'url': 'https://i.ytimg.com/vi/A-Ja3fXfpuM/default_live.jpg', 'width': 120, 'height': 90}, 'medium': {'url': 'https://i.ytimg.com/vi/A-Ja3fXfpuM/mqdefault_live.jpg', 'width': 320, 'height': 180}, 'high': {'url': 'https://i.ytimg.com/vi/A-Ja3fXfpuM/hqdefault_live.jpg', 'width': 480, 'height': 360}}, 'channelTitle': 'Helios Radio', 'liveBroadcastContent': 'live', 'publishTime': '2023-11-05T03:38:45Z'}\n",
      "1 : https://www.youtube.com/watch?v=A-Ja3fXfpuM\n",
      "2 : https://www.youtube.com/watch?v=g_CEifuFfrs\n",
      "3 : https://www.youtube.com/watch?v=WCQoEb_ZYKk\n",
      "4 : https://www.youtube.com/watch?v=rHRK569gMIU\n",
      "5 : https://www.youtube.com/watch?v=d_iv5RIDBF8\n",
      "6 : https://www.youtube.com/watch?v=cA7CnAiXdJk\n",
      "{'publishedAt': '2007-07-13T00:00:22Z', 'channelId': 'UCktaw9L-f65LzUUdjmCFkbQ', 'title': 'Disney XD', 'description': 'Welcome to the official Disney XD YouTube Channel! Stay tuned for weekly uploads of full episodes, show clips, and compilations ...', 'thumbnails': {'default': {'url': 'https://yt3.ggpht.com/nVEgcnbTGngVxzKnJOr-T1QKJJPQW_1ZdCkNyrxHohaF2VzYpfZggE9HuLVIHT4wMMSZjJumZQ=s88-c-k-c0xffffffff-no-rj-mo'}, 'medium': {'url': 'https://yt3.ggpht.com/nVEgcnbTGngVxzKnJOr-T1QKJJPQW_1ZdCkNyrxHohaF2VzYpfZggE9HuLVIHT4wMMSZjJumZQ=s240-c-k-c0xffffffff-no-rj-mo'}, 'high': {'url': 'https://yt3.ggpht.com/nVEgcnbTGngVxzKnJOr-T1QKJJPQW_1ZdCkNyrxHohaF2VzYpfZggE9HuLVIHT4wMMSZjJumZQ=s800-c-k-c0xffffffff-no-rj-mo'}}, 'channelTitle': 'Disney XD', 'liveBroadcastContent': 'live', 'publishTime': '2007-07-13T00:00:22Z'}\n",
      "{'publishedAt': '2020-02-03T08:49:30Z', 'channelId': 'UCHKcuuAYs3c8n990WeMs-Lw', 'title': 'Thiên Quang Official', 'description': 'Chào mừng quý vị đến với Thiên Quang Official - kênh Youtube chính thức của ca sĩ Thiên Quang. - Thiên Quang sinh ngày ...', 'thumbnails': {'default': {'url': 'https://yt3.ggpht.com/d9FHwjdwaZC2tUXSxx1m0sNyN5DTgVr2hi1Lc4HVWXIWkS95X4TFFjsvy4qai9-DeyRPbn2j=s88-c-k-c0xffffffff-no-rj-mo'}, 'medium': {'url': 'https://yt3.ggpht.com/d9FHwjdwaZC2tUXSxx1m0sNyN5DTgVr2hi1Lc4HVWXIWkS95X4TFFjsvy4qai9-DeyRPbn2j=s240-c-k-c0xffffffff-no-rj-mo'}, 'high': {'url': 'https://yt3.ggpht.com/d9FHwjdwaZC2tUXSxx1m0sNyN5DTgVr2hi1Lc4HVWXIWkS95X4TFFjsvy4qai9-DeyRPbn2j=s800-c-k-c0xffffffff-no-rj-mo'}}, 'channelTitle': 'Thiên Quang Official', 'liveBroadcastContent': 'live', 'publishTime': '2020-02-03T08:49:30Z'}\n",
      "{'publishedAt': '2014-09-07T03:46:16Z', 'channelId': 'UCWxlUwW9BgGISaakjGM37aw', 'title': 'Valkyrae', 'description': \"hi! I'm a streamer on YouTube! Co-Owner of @100thieves Global Ambassador for @gymshark Instagram/Twitter/Tiktok/Threads: ...\", 'thumbnails': {'default': {'url': 'https://yt3.ggpht.com/0Qu_iyV5XEUmy7MBd46TqRzsMuTED6M5zvunG8W6GjOrRn3pgs-BSTLREWopbkmzQIC66R_FPDs=s88-c-k-c0xffffffff-no-rj-mo'}, 'medium': {'url': 'https://yt3.ggpht.com/0Qu_iyV5XEUmy7MBd46TqRzsMuTED6M5zvunG8W6GjOrRn3pgs-BSTLREWopbkmzQIC66R_FPDs=s240-c-k-c0xffffffff-no-rj-mo'}, 'high': {'url': 'https://yt3.ggpht.com/0Qu_iyV5XEUmy7MBd46TqRzsMuTED6M5zvunG8W6GjOrRn3pgs-BSTLREWopbkmzQIC66R_FPDs=s800-c-k-c0xffffffff-no-rj-mo'}}, 'channelTitle': 'Valkyrae', 'liveBroadcastContent': 'live', 'publishTime': '2014-09-07T03:46:16Z'}\n",
      "{'publishedAt': '2019-06-27T11:15:46Z', 'channelId': 'UCHAahQqEGNM-Usc4FJTAVdw', 'title': '123 GO! FOOD', 'description': 'We have new friends Yay Time! https://www.youtube.com/channel/UCtNPjjNgJWDTzyEd_6jp26w take a look at them, they have ...', 'thumbnails': {'default': {'url': 'https://yt3.ggpht.com/ytc/APkrFKYVqneMKAvXjmx6KLWmHce84ul0aEmofBA4DL5rWA=s88-c-k-c0xffffffff-no-rj-mo'}, 'medium': {'url': 'https://yt3.ggpht.com/ytc/APkrFKYVqneMKAvXjmx6KLWmHce84ul0aEmofBA4DL5rWA=s240-c-k-c0xffffffff-no-rj-mo'}, 'high': {'url': 'https://yt3.ggpht.com/ytc/APkrFKYVqneMKAvXjmx6KLWmHce84ul0aEmofBA4DL5rWA=s800-c-k-c0xffffffff-no-rj-mo'}}, 'channelTitle': '123 GO! FOOD', 'liveBroadcastContent': 'live', 'publishTime': '2019-06-27T11:15:46Z'}\n",
      "{'publishedAt': '2018-03-30T16:25:54Z', 'channelId': 'UCZLruqw8oU3OA90ebHMMq3w', 'title': 'ZLANER', 'description': 'I upload livestream highlights and guides to this Youtube Channel! (Mostly COD:Warzone) Most footage is taken from my ...', 'thumbnails': {'default': {'url': 'https://yt3.ggpht.com/6MyvXlojh5QjhvRjkE3e7WPa1XU8BIO9MQ8eXQu5tMrUnwIdYsMLSAyCCkd5VE_RSfYDQB02=s88-c-k-c0xffffffff-no-rj-mo'}, 'medium': {'url': 'https://yt3.ggpht.com/6MyvXlojh5QjhvRjkE3e7WPa1XU8BIO9MQ8eXQu5tMrUnwIdYsMLSAyCCkd5VE_RSfYDQB02=s240-c-k-c0xffffffff-no-rj-mo'}, 'high': {'url': 'https://yt3.ggpht.com/6MyvXlojh5QjhvRjkE3e7WPa1XU8BIO9MQ8eXQu5tMrUnwIdYsMLSAyCCkd5VE_RSfYDQB02=s800-c-k-c0xffffffff-no-rj-mo'}}, 'channelTitle': 'ZLANER', 'liveBroadcastContent': 'live', 'publishTime': '2018-03-30T16:25:54Z'}\n",
      "{'publishedAt': '2021-08-10T14:04:17Z', 'channelId': 'UCFFB6YrSj9rRTiueXk8_qpA', 'title': 'MAKE JOKE HD', 'description': 'MAKE JOKE HD CHANNEL PAR APKO GULLI BULLI KI ADVENTURE HORROR STORIES MILENGI.... PLEASE SUBSCRIBE.', 'thumbnails': {'default': {'url': 'https://yt3.ggpht.com/7d2jgCBsDaYncTXQGhaEL97xnZww9eX5xBHb7TBR_Mdf7usLB8LeZ4a6GeYLeDrtp03mckvRHHw=s88-c-k-c0xffffffff-no-rj-mo'}, 'medium': {'url': 'https://yt3.ggpht.com/7d2jgCBsDaYncTXQGhaEL97xnZww9eX5xBHb7TBR_Mdf7usLB8LeZ4a6GeYLeDrtp03mckvRHHw=s240-c-k-c0xffffffff-no-rj-mo'}, 'high': {'url': 'https://yt3.ggpht.com/7d2jgCBsDaYncTXQGhaEL97xnZww9eX5xBHb7TBR_Mdf7usLB8LeZ4a6GeYLeDrtp03mckvRHHw=s800-c-k-c0xffffffff-no-rj-mo'}}, 'channelTitle': 'MAKE JOKE HD', 'liveBroadcastContent': 'live', 'publishTime': '2021-08-10T14:04:17Z'}\n",
      "{'publishedAt': '2020-01-07T04:58:06Z', 'channelId': 'UC0e8JXP9wrVbkpsshFgGC7w', 'title': 'Chowder&Friends Thailand', 'description': 'เตรียมพบกับการ์ตูนจากช่อง Boomerang 89 เรื่อง ชาวเดอร์ [Chowder] ชาวเดอร์กุ๊กฝึกหัดที่มาเรียนทำอาหารกับ \"มุง\" (Mung Daal) ...', 'thumbnails': {'default': {'url': 'https://yt3.ggpht.com/xS1m6zKg4_U-eUZlPZoS1_bx1VJbURHL5LU2dyeQIwqFiueqQpgjsmfcUDW8XMkyhEsRO03LJQ=s88-c-k-c0xffffffff-no-rj-mo'}, 'medium': {'url': 'https://yt3.ggpht.com/xS1m6zKg4_U-eUZlPZoS1_bx1VJbURHL5LU2dyeQIwqFiueqQpgjsmfcUDW8XMkyhEsRO03LJQ=s240-c-k-c0xffffffff-no-rj-mo'}, 'high': {'url': 'https://yt3.ggpht.com/xS1m6zKg4_U-eUZlPZoS1_bx1VJbURHL5LU2dyeQIwqFiueqQpgjsmfcUDW8XMkyhEsRO03LJQ=s800-c-k-c0xffffffff-no-rj-mo'}}, 'channelTitle': 'Chowder&Friends Thailand', 'liveBroadcastContent': 'live', 'publishTime': '2020-01-07T04:58:06Z'}\n",
      "{'publishedAt': '2006-09-19T00:14:13Z', 'channelId': 'UCFoe1tg8MuHjRzmqXtV816A', 'title': 'KanalD', 'description': \"Türkiye'nin Kanalı.\", 'thumbnails': {'default': {'url': 'https://yt3.ggpht.com/CNqBeDj1YFEvY49sT6YW_xlOCR8yYYb0XZG7D7i4YJk-8TXHDqjm9O4mUJuEdREwKxuHKMVg=s88-c-k-c0xffffffff-no-rj-mo'}, 'medium': {'url': 'https://yt3.ggpht.com/CNqBeDj1YFEvY49sT6YW_xlOCR8yYYb0XZG7D7i4YJk-8TXHDqjm9O4mUJuEdREwKxuHKMVg=s240-c-k-c0xffffffff-no-rj-mo'}, 'high': {'url': 'https://yt3.ggpht.com/CNqBeDj1YFEvY49sT6YW_xlOCR8yYYb0XZG7D7i4YJk-8TXHDqjm9O4mUJuEdREwKxuHKMVg=s800-c-k-c0xffffffff-no-rj-mo'}}, 'channelTitle': 'KanalD', 'liveBroadcastContent': 'live', 'publishTime': '2006-09-19T00:14:13Z'}\n",
      "7 : https://www.youtube.com/watch?v=vw_5rIXWKqQ\n",
      "8 : https://www.youtube.com/watch?v=U2XMNXtosZQ\n",
      "9 : https://www.youtube.com/watch?v=5fUwu9XnmN8\n",
      "10 : https://www.youtube.com/watch?v=7VaVc-PTuAY\n",
      "11 : https://www.youtube.com/watch?v=Bmus9_a_hSI\n",
      "12 : https://www.youtube.com/watch?v=QoY84flTdAY\n",
      "13 : https://www.youtube.com/watch?v=xyDKZFaqRYg\n",
      "14 : https://www.youtube.com/watch?v=ohXLl2rN498\n",
      "15 : https://www.youtube.com/watch?v=YXLzJfipmes\n",
      "16 : https://www.youtube.com/watch?v=gDKr0ImyWVY\n",
      "17 : https://www.youtube.com/watch?v=Q1giqvTwZqs\n",
      "18 : https://www.youtube.com/watch?v=SujS6jpa5ug\n",
      "19 : https://www.youtube.com/watch?v=7SvDjLdwyRE\n",
      "20 : https://www.youtube.com/watch?v=n1AqQT2oLbo\n",
      "21 : https://www.youtube.com/watch?v=FWRD0_Nn724\n",
      "22 : https://www.youtube.com/watch?v=KUtN89TXLGg\n",
      "23 : https://www.youtube.com/watch?v=cJEAM-9vz0E\n",
      "24 : https://www.youtube.com/watch?v=kAvGR2mmlc8\n",
      "25 : https://www.youtube.com/watch?v=JDpliy0mtBo\n",
      "26 : https://www.youtube.com/watch?v=zpU1dEisq-s\n",
      "27 : https://www.youtube.com/watch?v=51Xetpfc7G4\n",
      "28 : https://www.youtube.com/watch?v=2WjenMuK_N8\n",
      "29 : https://www.youtube.com/watch?v=nw9pM9RVpcY\n",
      "30 : https://www.youtube.com/watch?v=76DmVspGXw4\n",
      "31 : https://www.youtube.com/watch?v=UaDDDWDqBZo\n",
      "32 : https://www.youtube.com/watch?v=9JUwehvlvoE\n",
      "33 : https://www.youtube.com/watch?v=sPdJX_PJro0\n",
      "34 : https://www.youtube.com/watch?v=vq1CsCmKiqs\n",
      "35 : https://www.youtube.com/watch?v=MLa6o_sMIsM\n",
      "36 : https://www.youtube.com/watch?v=pVcifdj3EOE\n",
      "37 : https://www.youtube.com/watch?v=ACKjzcONDWY\n",
      "38 : https://www.youtube.com/watch?v=khjgyCj4K80\n",
      "39 : https://www.youtube.com/watch?v=AspuJ4h0Vnw\n",
      "40 : https://www.youtube.com/watch?v=z-ajm1kbCA4\n",
      "41 : https://www.youtube.com/watch?v=GhKWU3nMeao\n",
      "42 : https://www.youtube.com/watch?v=PmmDEUz1Cew\n"
     ]
    }
   ],
   "source": [
    "#   for(var i in results.items) {\n",
    "#     var item = results.items[i];\n",
    "#     Logger.log('[%s] Title: %s', item.id.videoId, item.snippet.title);\n",
    "#   }\n",
    "print(\"Search ID: \", response[\"items\"][0]['id'])\n",
    "print(\"\\nSnippet Data:\",response[\"items\"][0]['snippet'])\n",
    "videoIDs = []\n",
    "videos = response[\"items\"]\n",
    "count = 1\n",
    "for video in videos:\n",
    "    if('videoId' in video['id']):\n",
    "        print(count, \": https://www.youtube.com/watch?v=\" + video['id']['videoId'])\n",
    "        videoIDs.append(video['id']['videoId'])\n",
    "        count = count+1\n",
    "    else: \n",
    "        # this seems to only print out channels meaning the youtube search only returns videos & channels\n",
    "        print(video['snippet'])"
   ]
  },
  {
   "cell_type": "markdown",
   "id": "6d81db62",
   "metadata": {},
   "source": [
    "## Calculate and Find top 10 most trending videos under that tag"
   ]
  },
  {
   "cell_type": "code",
   "execution_count": 136,
   "id": "0ec63925",
   "metadata": {},
   "outputs": [],
   "source": [
    "collection_of_video_data = {}\n",
    "for video in videos:\n",
    "    if('videoId' in video['id']):\n",
    "        request = youtube.videos().list(part = 'snippet, statistics', id = video['id']['videoId'])\n",
    "        response = request.execute()\n",
    "        collection_of_video_data[video['id']['videoId']] = response"
   ]
  },
  {
   "cell_type": "code",
   "execution_count": 163,
   "id": "11888a87",
   "metadata": {},
   "outputs": [
    {
     "name": "stdout",
     "output_type": "stream",
     "text": [
      "Statistics:  {'viewCount': '114755', 'likeCount': '258', 'favoriteCount': '0', 'commentCount': '0'}\n",
      "1 : Trend Total:  115013\n",
      "Statistics:  {'viewCount': '3604744', 'likeCount': '17289', 'favoriteCount': '0', 'commentCount': '0'}\n",
      "2 : Trend Total:  3622033\n",
      "Statistics:  {'viewCount': '453631', 'likeCount': '1994', 'favoriteCount': '0', 'commentCount': '0'}\n",
      "3 : Trend Total:  455625\n",
      "Statistics:  {'likeCount': '3', 'favoriteCount': '0', 'commentCount': '0'}\n",
      "4 : Trend Total:  3\n",
      "Statistics:  {'viewCount': '263323', 'likeCount': '8', 'favoriteCount': '0', 'commentCount': '0'}\n",
      "5 : Trend Total:  263331\n",
      "Statistics:  {'viewCount': '1036723', 'likeCount': '5', 'favoriteCount': '0', 'commentCount': '0'}\n",
      "6 : Trend Total:  1036728\n",
      "Statistics:  {'viewCount': '285142', 'likeCount': '43', 'favoriteCount': '0', 'commentCount': '0'}\n",
      "7 : Trend Total:  285185\n",
      "Statistics:  {'viewCount': '323934', 'likeCount': '5171', 'favoriteCount': '0', 'commentCount': '436'}\n",
      "8 : Trend Total:  329541\n",
      "Statistics:  {'viewCount': '990853', 'likeCount': '28341', 'favoriteCount': '0', 'commentCount': '313'}\n",
      "9 : Trend Total:  1019507\n",
      "Statistics:  {'viewCount': '221214', 'likeCount': '3828', 'favoriteCount': '0', 'commentCount': '297'}\n",
      "10 : Trend Total:  225339\n",
      "Statistics:  {'viewCount': '2332900', 'likeCount': '22754', 'favoriteCount': '0', 'commentCount': '2223'}\n",
      "11 : Trend Total:  2357877\n",
      "Statistics:  {'viewCount': '815558', 'likeCount': '7047', 'favoriteCount': '0', 'commentCount': '643'}\n",
      "12 : Trend Total:  823248\n",
      "Statistics:  {'viewCount': '310272', 'likeCount': '4189', 'favoriteCount': '0', 'commentCount': '419'}\n",
      "13 : Trend Total:  314880\n",
      "Statistics:  {'viewCount': '189823', 'likeCount': '2813', 'favoriteCount': '0', 'commentCount': '50'}\n",
      "14 : Trend Total:  192686\n",
      "Statistics:  {'viewCount': '764499', 'likeCount': '20032', 'favoriteCount': '0', 'commentCount': '305'}\n",
      "15 : Trend Total:  784836\n",
      "Statistics:  {'viewCount': '349244', 'likeCount': '1180', 'favoriteCount': '0', 'commentCount': '45'}\n",
      "16 : Trend Total:  350469\n",
      "Statistics:  {'viewCount': '257534', 'likeCount': '3679', 'favoriteCount': '0', 'commentCount': '410'}\n",
      "17 : Trend Total:  261623\n",
      "Statistics:  {'viewCount': '598657', 'likeCount': '8276', 'favoriteCount': '0', 'commentCount': '178'}\n",
      "18 : Trend Total:  607111\n",
      "Statistics:  {'viewCount': '283773', 'likeCount': '5092', 'favoriteCount': '0', 'commentCount': '531'}\n",
      "19 : Trend Total:  289396\n",
      "Statistics:  {'viewCount': '215441', 'likeCount': '1091', 'favoriteCount': '0', 'commentCount': '142'}\n",
      "20 : Trend Total:  216674\n",
      "Statistics:  {'viewCount': '243223', 'likeCount': '30576', 'favoriteCount': '0', 'commentCount': '256'}\n",
      "21 : Trend Total:  274055\n",
      "Statistics:  {'viewCount': '40452336', 'likeCount': '1624763', 'favoriteCount': '0', 'commentCount': '0'}\n",
      "22 : Trend Total:  42077099\n",
      "Statistics:  {'viewCount': '261324', 'likeCount': '1478', 'favoriteCount': '0', 'commentCount': '220'}\n",
      "23 : Trend Total:  263022\n",
      "Statistics:  {'viewCount': '481889', 'likeCount': '5721', 'favoriteCount': '0', 'commentCount': '83'}\n",
      "24 : Trend Total:  487693\n",
      "Statistics:  {'viewCount': '460287', 'likeCount': '33747', 'favoriteCount': '0', 'commentCount': '197'}\n",
      "25 : Trend Total:  494231\n",
      "Statistics:  {'viewCount': '144484', 'likeCount': '616', 'favoriteCount': '0', 'commentCount': '62'}\n",
      "26 : Trend Total:  145162\n",
      "Statistics:  {'viewCount': '141130', 'likeCount': '7968', 'favoriteCount': '0', 'commentCount': '563'}\n",
      "27 : Trend Total:  149661\n",
      "Statistics:  {'viewCount': '29560', 'likeCount': '2068', 'favoriteCount': '0', 'commentCount': '33'}\n",
      "28 : Trend Total:  31661\n",
      "Statistics:  {'viewCount': '417852', 'likeCount': '32950', 'favoriteCount': '0', 'commentCount': '682'}\n",
      "29 : Trend Total:  451484\n",
      "Statistics:  {'viewCount': '265974', 'likeCount': '9550', 'favoriteCount': '0', 'commentCount': '708'}\n",
      "30 : Trend Total:  276232\n",
      "Statistics:  {'viewCount': '46356', 'likeCount': '1381', 'favoriteCount': '0', 'commentCount': '686'}\n",
      "31 : Trend Total:  48423\n",
      "Statistics:  {'viewCount': '399776', 'likeCount': '44625', 'favoriteCount': '0', 'commentCount': '145'}\n",
      "32 : Trend Total:  444546\n",
      "Statistics:  {'viewCount': '22831', 'likeCount': '1313', 'favoriteCount': '0', 'commentCount': '56'}\n",
      "33 : Trend Total:  24200\n",
      "Statistics:  {'viewCount': '189337', 'likeCount': '5295', 'favoriteCount': '0', 'commentCount': '535'}\n",
      "34 : Trend Total:  195167\n",
      "Statistics:  {'likeCount': '510', 'favoriteCount': '0', 'commentCount': '0'}\n",
      "35 : Trend Total:  510\n",
      "Statistics:  {'viewCount': '519201', 'likeCount': '29364', 'favoriteCount': '0', 'commentCount': '4463'}\n",
      "36 : Trend Total:  553028\n",
      "Statistics:  {'viewCount': '277371', 'likeCount': '5547', 'favoriteCount': '0', 'commentCount': '517'}\n",
      "37 : Trend Total:  283435\n",
      "Statistics:  {'viewCount': '164998', 'favoriteCount': '0', 'commentCount': '442'}\n",
      "38 : Trend Total:  165440\n",
      "Statistics:  {'viewCount': '1018760', 'likeCount': '5148', 'favoriteCount': '0', 'commentCount': '221'}\n",
      "39 : Trend Total:  1024129\n",
      "Statistics:  {'viewCount': '88119', 'likeCount': '10134', 'favoriteCount': '0', 'commentCount': '141'}\n",
      "40 : Trend Total:  98394\n",
      "Statistics:  {'viewCount': '405844', 'likeCount': '2120', 'favoriteCount': '0', 'commentCount': '40'}\n",
      "41 : Trend Total:  408004\n",
      "Statistics:  {'likeCount': '119', 'favoriteCount': '0', 'commentCount': '25'}\n",
      "42 : Trend Total:  144\n",
      "Statistics:  {'viewCount': '249932', 'likeCount': '15854', 'favoriteCount': '0', 'commentCount': '95'}\n",
      "43 : Trend Total:  265881\n",
      "[115013, 3622033, 455625, 3, 263331, 1036728, 285185, 329541, 1019507, 225339, 2357877, 823248, 314880, 192686, 784836, 350469, 261623, 607111, 289396, 216674, 274055, 42077099, 263022, 487693, 494231, 145162, 149661, 31661, 451484, 276232, 48423, 444546, 24200, 195167, 510, 553028, 283435, 165440, 1024129, 98394, 408004, 144, 265881]\n"
     ]
    }
   ],
   "source": [
    "set_of_trend_totals = []\n",
    "count = 1\n",
    "for vid_data in collection_of_video_data:\n",
    "#     print(count, ':', collection_of_video_data[vid_data])\n",
    "    print(\"Statistics: \", collection_of_video_data[vid_data]['items'][0]['statistics'])\n",
    "    \n",
    "    trendTotal = 0\n",
    "    if \"viewCount\" in collection_of_video_data[vid_data]['items'][0]['statistics']:\n",
    "        views = collection_of_video_data[vid_data]['items'][0]['statistics']['viewCount']\n",
    "        trendTotal = trendTotal + int(views)\n",
    "    if \"likeCount\" in collection_of_video_data[vid_data]['items'][0]['statistics']:\n",
    "        likes = collection_of_video_data[vid_data]['items'][0]['statistics']['likeCount']\n",
    "        trendTotal = trendTotal + int(likes)\n",
    "    if \"commentCount\" in collection_of_video_data[vid_data]['items'][0]['statistics']:\n",
    "        comments = collection_of_video_data[vid_data]['items'][0]['statistics']['commentCount']\n",
    "        trendTotal = trendTotal + int(comments)\n",
    "\n",
    "    set_of_trend_totals.append(trendTotal)\n",
    "    print(count, ': Trend Total: ', trendTotal)\n",
    "    count = count+1"
   ]
  },
  {
   "cell_type": "code",
   "execution_count": 186,
   "id": "21c08628",
   "metadata": {},
   "outputs": [
    {
     "name": "stdout",
     "output_type": "stream",
     "text": [
      "videoID: trendTotal -->  A-Ja3fXfpuM: 115013\n",
      "videoID: trendTotal -->  g_CEifuFfrs: 3622033\n",
      "videoID: trendTotal -->  WCQoEb_ZYKk: 455625\n",
      "videoID: trendTotal -->  rHRK569gMIU: 3\n",
      "videoID: trendTotal -->  d_iv5RIDBF8: 263331\n",
      "videoID: trendTotal -->  cA7CnAiXdJk: 1036728\n",
      "videoID: trendTotal -->  vw_5rIXWKqQ: 285185\n",
      "videoID: trendTotal -->  U2XMNXtosZQ: 329541\n",
      "videoID: trendTotal -->  5fUwu9XnmN8: 1019507\n",
      "videoID: trendTotal -->  7VaVc-PTuAY: 225339\n",
      "videoID: trendTotal -->  Bmus9_a_hSI: 2357877\n",
      "videoID: trendTotal -->  QoY84flTdAY: 823248\n",
      "videoID: trendTotal -->  xyDKZFaqRYg: 314880\n",
      "videoID: trendTotal -->  ohXLl2rN498: 192686\n",
      "videoID: trendTotal -->  YXLzJfipmes: 784836\n",
      "videoID: trendTotal -->  gDKr0ImyWVY: 350469\n",
      "videoID: trendTotal -->  Q1giqvTwZqs: 261623\n",
      "videoID: trendTotal -->  SujS6jpa5ug: 607111\n",
      "videoID: trendTotal -->  7SvDjLdwyRE: 289396\n",
      "videoID: trendTotal -->  n1AqQT2oLbo: 216674\n",
      "videoID: trendTotal -->  FWRD0_Nn724: 274055\n",
      "videoID: trendTotal -->  KUtN89TXLGg: 42077099\n",
      "videoID: trendTotal -->  cJEAM-9vz0E: 263022\n",
      "videoID: trendTotal -->  kAvGR2mmlc8: 487693\n",
      "videoID: trendTotal -->  JDpliy0mtBo: 494231\n",
      "videoID: trendTotal -->  zpU1dEisq-s: 145162\n",
      "videoID: trendTotal -->  51Xetpfc7G4: 149661\n",
      "videoID: trendTotal -->  2WjenMuK_N8: 31661\n",
      "videoID: trendTotal -->  nw9pM9RVpcY: 451484\n",
      "videoID: trendTotal -->  76DmVspGXw4: 276232\n",
      "videoID: trendTotal -->  UaDDDWDqBZo: 48423\n",
      "videoID: trendTotal -->  9JUwehvlvoE: 444546\n",
      "videoID: trendTotal -->  sPdJX_PJro0: 24200\n",
      "videoID: trendTotal -->  vq1CsCmKiqs: 195167\n",
      "videoID: trendTotal -->  MLa6o_sMIsM: 510\n",
      "videoID: trendTotal -->  pVcifdj3EOE: 553028\n",
      "videoID: trendTotal -->  ACKjzcONDWY: 283435\n",
      "videoID: trendTotal -->  khjgyCj4K80: 165440\n",
      "videoID: trendTotal -->  AspuJ4h0Vnw: 1024129\n",
      "videoID: trendTotal -->  z-ajm1kbCA4: 98394\n",
      "videoID: trendTotal -->  GhKWU3nMeao: 408004\n",
      "videoID: trendTotal -->  PmmDEUz1Cew: 144\n"
     ]
    }
   ],
   "source": [
    "count = 0\n",
    "video_id_to_trend_total = {}\n",
    "for video in videoIDs:\n",
    "    print('videoID: trendTotal --> ', video, end = \": \")\n",
    "    print(set_of_trend_totals[count])\n",
    "    video_id_to_trend_total[video] = set_of_trend_totals[count]\n",
    "    count = count + 1\n",
    "    \n",
    "# for video in video_id_to_trend_total:\n",
    "#     print(video, \":\", video_id_to_trend_total[video])"
   ]
  },
  {
   "cell_type": "code",
   "execution_count": null,
   "id": "290c0831",
   "metadata": {},
   "outputs": [],
   "source": []
  }
 ],
 "metadata": {
  "kernelspec": {
   "display_name": "cs122",
   "language": "python",
   "name": "cs122"
  },
  "language_info": {
   "codemirror_mode": {
    "name": "ipython",
    "version": 3
   },
   "file_extension": ".py",
   "mimetype": "text/x-python",
   "name": "python",
   "nbconvert_exporter": "python",
   "pygments_lexer": "ipython3",
   "version": "3.10.12"
  }
 },
 "nbformat": 4,
 "nbformat_minor": 5
}
