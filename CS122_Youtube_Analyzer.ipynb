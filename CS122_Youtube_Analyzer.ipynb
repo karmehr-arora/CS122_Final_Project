{
 "cells": [
  {
   "cell_type": "markdown",
   "id": "b25b43fe",
   "metadata": {},
   "source": [
    "# Project: Youtube Analyzer\n",
    "## Authors: Karmehr Arora, Alfred Koh"
   ]
  },
  {
   "cell_type": "markdown",
   "id": "ce0a5029",
   "metadata": {},
   "source": [
    "### Project Overview\n",
    "Data: Youtube API’s\n",
    "GUI: Tkinter\n",
    "\n",
    "Roles:\n",
    "\n",
    "    Karmehr: Accessing Data from the API & organizing it\n",
    "\n",
    "    Alfred: Analyzing the data & representing it with tkinter\n",
    "\n",
    "Goal: \n",
    "Finding the top 10 trending basketball videos (or videos of a requested topic) in the last 24 hours\n",
    "Look for the most (total likes + total comments + total shares) under tag = basketball in the last 24 hours\n",
    "\n",
    "Limitations: \n",
    "Estimated limit of searches of 50 per day due to Youtube API usage restrictions\n"
   ]
  },
  {
   "cell_type": "code",
   "execution_count": 1,
   "id": "5b3f6157",
   "metadata": {},
   "outputs": [],
   "source": [
    "# import utilized libraries pertaining to data collection\n",
    "import google_auth_oauthlib.flow\n",
    "import googleapiclient.discovery\n",
    "import googleapiclient.errors"
   ]
  },
  {
   "cell_type": "code",
   "execution_count": 7,
   "id": "a97a41b4",
   "metadata": {},
   "outputs": [
    {
     "name": "stdout",
     "output_type": "stream",
     "text": [
      "Enter your API Key:········\n"
     ]
    }
   ],
   "source": [
    "# get access key to API\n",
    "from getpass import getpass\n",
    "API_KEY = getpass('Enter your API Key:')"
   ]
  },
  {
   "cell_type": "code",
   "execution_count": 8,
   "id": "0475ca7e",
   "metadata": {},
   "outputs": [],
   "source": [
    "# define the api service and version\n",
    "api_service_name = 'youtube'\n",
    "api_version = 'v3'"
   ]
  },
  {
   "cell_type": "markdown",
   "metadata": {},
   "source": [
    "## Requesting User to choose topic\n",
    "default to basketball as topic if user has error/opts out of entering topic"
   ]
  },
  {
   "cell_type": "code",
   "execution_count": 65,
   "id": "ed59e5dc",
   "metadata": {},
   "outputs": [
    {
     "name": "stdout",
     "output_type": "stream",
     "text": [
      "Formula 1\n"
     ]
    }
   ],
   "source": [
    "# request user for topic (default = 'basketball')\n",
    "topic = 'basketball'\n",
    "topic = input()"
   ]
  },
  {
   "cell_type": "markdown",
   "id": "9f7fd0e5",
   "metadata": {},
   "source": [
    "## Search youtube for videos with that tag"
   ]
  },
  {
   "cell_type": "code",
   "execution_count": 66,
   "id": "cc9c5bff",
   "metadata": {},
   "outputs": [],
   "source": [
    "# access the youtube api client\n",
    "youtube = googleapiclient.discovery.build(api_service_name, api_version, developerKey = API_KEY)\n",
    "\n",
    "# make a request to the api to find videos under that topic\n",
    "# note: cost of this operation is 100 units of the alloted 10,000 units per 24 hours\n",
    "request = youtube.search().list(\n",
    "        part=\"id,snippet\",\n",
    "        maxResults=50,\n",
    "        q=topic\n",
    "    )"
   ]
  },
  {
   "cell_type": "code",
   "execution_count": 67,
   "id": "1540acdf",
   "metadata": {},
   "outputs": [],
   "source": [
    "# execute the query in the request\n",
    "response = request.execute()"
   ]
  },
  {
   "cell_type": "code",
   "execution_count": 75,
   "id": "f688a610",
   "metadata": {},
   "outputs": [
    {
     "name": "stdout",
     "output_type": "stream",
     "text": [
      "Search ID:  {'kind': 'youtube#video', 'videoId': 'PnWJjf1dQJ0'}\n",
      "\n",
      "Snippet Data: {'publishedAt': '2023-11-25T15:42:18Z', 'channelId': 'UCB_qr75-ydFVKSF9Dmo6izg', 'title': 'Qualifying Highlights | 2023 Abu Dhabi Grand Prix', 'description': 'For one last time this season, the drivers battled it out in Abu Dhabi for the final pole position of 2023! For more F1® videos, visit ...', 'thumbnails': {'default': {'url': 'https://i.ytimg.com/vi/PnWJjf1dQJ0/default.jpg', 'width': 120, 'height': 90}, 'medium': {'url': 'https://i.ytimg.com/vi/PnWJjf1dQJ0/mqdefault.jpg', 'width': 320, 'height': 180}, 'high': {'url': 'https://i.ytimg.com/vi/PnWJjf1dQJ0/hqdefault.jpg', 'width': 480, 'height': 360}}, 'channelTitle': 'FORMULA 1', 'liveBroadcastContent': 'none', 'publishTime': '2023-11-25T15:42:18Z'}\n",
      "1 : https://www.youtube.com/watch?v=PnWJjf1dQJ0\n",
      "2 : https://www.youtube.com/watch?v=GJMSyW2GYZU\n",
      "3 : https://www.youtube.com/watch?v=H4XUkc3Q3AU\n",
      "4 : https://www.youtube.com/watch?v=Q9qSwDxF6YI\n",
      "5 : https://www.youtube.com/watch?v=CNnim_mZlBM\n",
      "6 : https://www.youtube.com/watch?v=x2ZErZsUn1o\n",
      "7 : https://www.youtube.com/watch?v=2RpnrZ5Jb54\n",
      "8 : https://www.youtube.com/watch?v=EtFrrhmzA-0\n",
      "9 : https://www.youtube.com/watch?v=kP5SQcOcaCw\n",
      "10 : https://www.youtube.com/watch?v=tkqnQ_9ZLRU\n",
      "11 : https://www.youtube.com/watch?v=wQQsxlPkSZk\n",
      "12 : https://www.youtube.com/watch?v=BdirO6hgdwQ\n",
      "13 : https://www.youtube.com/watch?v=WkLTWmlTaJM\n",
      "14 : https://www.youtube.com/watch?v=fobN_XSOQ5s\n",
      "15 : https://www.youtube.com/watch?v=ucLUqZhObMs\n",
      "16 : https://www.youtube.com/watch?v=SXDJJLc-h0c\n",
      "17 : https://www.youtube.com/watch?v=kmpKU3hX54Y\n",
      "18 : https://www.youtube.com/watch?v=WGoRmzzHPF0\n",
      "19 : https://www.youtube.com/watch?v=Ha8gcmAzHeM\n",
      "20 : https://www.youtube.com/watch?v=5AYerUMRMDo\n",
      "21 : https://www.youtube.com/watch?v=OTbaG_uTn-M\n",
      "22 : https://www.youtube.com/watch?v=3s-olXi3ILc\n",
      "23 : https://www.youtube.com/watch?v=DH0AKVCXlec\n",
      "24 : https://www.youtube.com/watch?v=PxFecBe7erI\n",
      "25 : https://www.youtube.com/watch?v=5iA-R1k_Tzw\n",
      "26 : https://www.youtube.com/watch?v=nVkC2x91EUA\n",
      "27 : https://www.youtube.com/watch?v=n_2kFYc3N0U\n",
      "28 : https://www.youtube.com/watch?v=ig4laP4FShE\n",
      "29 : https://www.youtube.com/watch?v=oOcCrCxVvec\n",
      "30 : https://www.youtube.com/watch?v=plxp3YAakcw\n",
      "31 : https://www.youtube.com/watch?v=skzQSpm1B7c\n",
      "32 : https://www.youtube.com/watch?v=yX_GUhWiBHk\n",
      "33 : https://www.youtube.com/watch?v=6oaH23wbIJA\n",
      "34 : https://www.youtube.com/watch?v=SSdsncLXLYs\n",
      "35 : https://www.youtube.com/watch?v=3O9HOA8ZpyA\n",
      "36 : https://www.youtube.com/watch?v=PGSRPAbrngs\n",
      "37 : https://www.youtube.com/watch?v=FyATTc4MmVc\n",
      "38 : https://www.youtube.com/watch?v=sYUz7LSKll0\n",
      "39 : https://www.youtube.com/watch?v=sY5pW3AcJ0A\n",
      "40 : https://www.youtube.com/watch?v=oIWe4Sy52U0\n",
      "41 : https://www.youtube.com/watch?v=kXHttaUBxuY\n",
      "42 : https://www.youtube.com/watch?v=nIRQ9_B6SCs\n",
      "43 : https://www.youtube.com/watch?v=MNMyZl93YlY\n",
      "44 : https://www.youtube.com/watch?v=g8ft5vRNdQs\n",
      "45 : https://www.youtube.com/watch?v=j_9LM6Guum0\n",
      "46 : https://www.youtube.com/watch?v=eulv6eVVIMo\n",
      "47 : https://www.youtube.com/watch?v=ZnekQGL2ShQ\n",
      "48 : https://www.youtube.com/watch?v=E40yaggyua0\n",
      "49 : https://www.youtube.com/watch?v=PZHGvcYEI6Q\n"
     ]
    }
   ],
   "source": [
    "print(\"Search ID: \", response[\"items\"][0]['id'])\n",
    "print(\"\\nSnippet Data:\",response[\"items\"][0]['snippet'])\n",
    "videos = response[\"items\"]\n",
    "count = 1\n",
    "for video in videos:\n",
    "    if('videoId' in video['id']):\n",
    "        print(count, \": https://www.youtube.com/watch?v=\" + video['id']['videoId'])\n",
    "        count = count+1\n",
    "    "
   ]
  },
  {
   "cell_type": "markdown",
   "id": "6d81db62",
   "metadata": {},
   "source": [
    "## Calculate and Find top 10 most trending videos under that tag"
   ]
  },
  {
   "cell_type": "code",
   "execution_count": 78,
   "id": "0ec63925",
   "metadata": {},
   "outputs": [],
   "source": [
    "collection_of_video_data = {}\n",
    "for video in videos:\n",
    "    if('videoId' in video['id']):\n",
    "        request = youtube.videos().list(part = 'snippet, statistics', id = video['id']['videoId'])\n",
    "        response = request.execute()\n",
    "        collection_of_video_data.append(response)"
   ]
  },
  {
   "cell_type": "code",
   "execution_count": 2,
   "id": "11888a87",
   "metadata": {},
   "outputs": [
    {
     "ename": "NameError",
     "evalue": "name 'collection_of_video_data' is not defined",
     "output_type": "error",
     "traceback": [
      "\u001b[1;31m---------------------------------------------------------------------------\u001b[0m",
      "\u001b[1;31mNameError\u001b[0m                                 Traceback (most recent call last)",
      "\u001b[1;32mc:\\Coding\\python\\CS_122\\Project\\CS122_Final_Project\\CS122_Youtube_Analyzer.ipynb Cell 14\u001b[0m line \u001b[0;36m2\n\u001b[0;32m      <a href='vscode-notebook-cell:/c%3A/Coding/python/CS_122/Project/CS122_Final_Project/CS122_Youtube_Analyzer.ipynb#X15sZmlsZQ%3D%3D?line=0'>1</a>\u001b[0m video_id_to_trend_total \u001b[39m=\u001b[39m []\n\u001b[1;32m----> <a href='vscode-notebook-cell:/c%3A/Coding/python/CS_122/Project/CS122_Final_Project/CS122_Youtube_Analyzer.ipynb#X15sZmlsZQ%3D%3D?line=1'>2</a>\u001b[0m \u001b[39mfor\u001b[39;00m vid_data \u001b[39min\u001b[39;00m collection_of_video_data:\n\u001b[0;32m      <a href='vscode-notebook-cell:/c%3A/Coding/python/CS_122/Project/CS122_Final_Project/CS122_Youtube_Analyzer.ipynb#X15sZmlsZQ%3D%3D?line=2'>3</a>\u001b[0m     trendTotal \u001b[39m=\u001b[39m (vid_data[\u001b[39m'\u001b[39m\u001b[39mitems\u001b[39m\u001b[39m'\u001b[39m][\u001b[39m0\u001b[39m][\u001b[39m'\u001b[39m\u001b[39mstatistics\u001b[39m\u001b[39m'\u001b[39m][\u001b[39m'\u001b[39m\u001b[39mviewCount\u001b[39m\u001b[39m'\u001b[39m] \u001b[39m+\u001b[39m vid_data[\u001b[39m'\u001b[39m\u001b[39mitems\u001b[39m\u001b[39m'\u001b[39m][\u001b[39m0\u001b[39m][\u001b[39m'\u001b[39m\u001b[39mstatistics\u001b[39m\u001b[39m'\u001b[39m][\u001b[39m'\u001b[39m\u001b[39mlikeCount\u001b[39m\u001b[39m'\u001b[39m] \u001b[39m+\u001b[39m \n\u001b[0;32m      <a href='vscode-notebook-cell:/c%3A/Coding/python/CS_122/Project/CS122_Final_Project/CS122_Youtube_Analyzer.ipynb#X15sZmlsZQ%3D%3D?line=3'>4</a>\u001b[0m                  vid_data[\u001b[39m'\u001b[39m\u001b[39mitems\u001b[39m\u001b[39m'\u001b[39m][\u001b[39m0\u001b[39m][\u001b[39m'\u001b[39m\u001b[39mstatistics\u001b[39m\u001b[39m'\u001b[39m][\u001b[39m'\u001b[39m\u001b[39mcommentCount\u001b[39m\u001b[39m'\u001b[39m])\n\u001b[0;32m      <a href='vscode-notebook-cell:/c%3A/Coding/python/CS_122/Project/CS122_Final_Project/CS122_Youtube_Analyzer.ipynb#X15sZmlsZQ%3D%3D?line=4'>5</a>\u001b[0m     \u001b[39mprint\u001b[39m(trendTotal)\n",
      "\u001b[1;31mNameError\u001b[0m: name 'collection_of_video_data' is not defined"
     ]
    }
   ],
   "source": [
    "video_id_to_trend_total = []\n",
    "for vid_data in collection_of_video_data:\n",
    "    trendTotal = (vid_data['items'][0]['statistics']['viewCount'] + vid_data['items'][0]['statistics']['likeCount'] + \n",
    "                 vid_data['items'][0]['statistics']['commentCount'])\n",
    "    print(trendTotal)\n",
    "\n",
    "#     for video in videos:\n",
    "#         video_id = video['id']['videoId']\n",
    "#         video_id_to_trend_total[video_id].append(trendTotal)\n",
    "# print(video_id_to_trend_total)\n"
   ]
  },
  {
   "cell_type": "code",
   "execution_count": null,
   "id": "21c08628",
   "metadata": {},
   "outputs": [],
   "source": []
  }
 ],
 "metadata": {
  "kernelspec": {
   "display_name": "cs122",
   "language": "python",
   "name": "cs122"
  },
  "language_info": {
   "codemirror_mode": {
    "name": "ipython",
    "version": 3
   },
   "file_extension": ".py",
   "mimetype": "text/x-python",
   "name": "python",
   "nbconvert_exporter": "python",
   "pygments_lexer": "ipython3",
   "version": "3.10.12"
  }
 },
 "nbformat": 4,
 "nbformat_minor": 5
}
