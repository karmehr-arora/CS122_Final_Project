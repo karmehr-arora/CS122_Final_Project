{
 "cells": [
  {
   "cell_type": "markdown",
   "id": "b25b43fe",
   "metadata": {},
   "source": [
    "# Project: Youtube Analyzer\n",
    "## Authors: Karmehr Arora, Alfred Koh"
   ]
  },
  {
   "cell_type": "markdown",
   "id": "ce0a5029",
   "metadata": {},
   "source": [
    "### Project Overview\n",
    "Data: Youtube API’s\n",
    "GUI: Tkinter\n",
    "\n",
    "Roles:\n",
    "\n",
    "    Karmehr: Accessing Data from the API & organizing it\n",
    "\n",
    "    Alfred: Analyzing the data & representing it with tkinter\n",
    "\n",
    "Goal: \n",
    "Finding the top 10 trending basketball videos (or videos of a requested topic) in the last 24 hours\n",
    "Look for the most (total likes + total comments + total shares) under tag = basketball in the last 24 hours\n",
    "\n",
    "Limitations: \n",
    "Estimated limit of searches of 50 per day due to Youtube API usage restrictions\n"
   ]
  },
  {
   "cell_type": "code",
   "execution_count": 3,
   "id": "5b3f6157",
   "metadata": {},
   "outputs": [],
   "source": [
    "# import utilized libraries pertaining to data collection\n",
    "import google_auth_oauthlib.flow\n",
    "import googleapiclient.discovery\n",
    "import googleapiclient.errors"
   ]
  },
  {
   "cell_type": "code",
   "execution_count": 4,
   "id": "a97a41b4",
   "metadata": {},
   "outputs": [
    {
     "name": "stdout",
     "output_type": "stream",
     "text": [
      "Enter your API Key:········\n"
     ]
    }
   ],
   "source": [
    "# get access key to API\n",
    "# don't push to github, but hardcode for demo\n",
    "from getpass import getpass\n",
    "API_KEY = getpass('Enter your API Key:')"
   ]
  },
  {
   "cell_type": "code",
   "execution_count": 5,
   "id": "0475ca7e",
   "metadata": {},
   "outputs": [],
   "source": [
    "# define the api service and version\n",
    "api_service_name = 'youtube'\n",
    "api_version = 'v3'"
   ]
  },
  {
   "cell_type": "markdown",
   "id": "b89a6d3a",
   "metadata": {},
   "source": [
    "## Requesting User to choose topic\n",
    "default to basketball as topic if user has error/opts out of entering topic"
   ]
  },
  {
   "cell_type": "code",
   "execution_count": 64,
   "id": "ed59e5dc",
   "metadata": {},
   "outputs": [
    {
     "name": "stdout",
     "output_type": "stream",
     "text": [
      "basketball 2v2\n"
     ]
    }
   ],
   "source": [
    "# request user for topic (default = 'basketball')\n",
    "topic = 'basketball'\n",
    "topic = input()"
   ]
  },
  {
   "cell_type": "markdown",
   "id": "3c8beb18",
   "metadata": {},
   "source": [
    "## Retrieving current Datetime"
   ]
  },
  {
   "cell_type": "code",
   "execution_count": 65,
   "id": "c694a8a3",
   "metadata": {},
   "outputs": [
    {
     "name": "stdout",
     "output_type": "stream",
     "text": [
      "datetime = 2023-11-22 00:55:03.375409\n",
      "date and time = 2023-11-22T00:55:03Z\n"
     ]
    }
   ],
   "source": [
    "from datetime import datetime\n",
    "from datetime import timedelta\n",
    "\n",
    "# datetime object containing current date and time\n",
    "current_datetime = datetime.now() - timedelta(days=7)\n",
    "print(\"datetime =\", current_datetime)\n",
    "\n",
    "# in accordance with Youtube Datetime rules; format =  YY/mm/ddTH:M:SZ\n",
    "modified_dt = current_datetime.strftime(\"%Y-%m-%dT%H:%M:%SZ\")\n",
    "print(\"date and time =\", modified_dt)"
   ]
  },
  {
   "cell_type": "markdown",
   "id": "9f7fd0e5",
   "metadata": {},
   "source": [
    "## Search youtube for videos with that tag"
   ]
  },
  {
   "cell_type": "code",
   "execution_count": 68,
   "id": "cc9c5bff",
   "metadata": {},
   "outputs": [],
   "source": [
    "# access the youtube api client\n",
    "youtube = googleapiclient.discovery.build(api_service_name, api_version, developerKey = API_KEY)\n",
    "\n",
    "# make a request to the api to find videos under that topic\n",
    "# note: cost of this operation is 100 units of the alloted 10,000 units per 24 hours\n",
    "request = youtube.search().list(\n",
    "        part=\"id,snippet\",\n",
    "        maxResults=50,\n",
    "        publishedAfter=modified_dt,\n",
    "        q=topic\n",
    "    )"
   ]
  },
  {
   "cell_type": "code",
   "execution_count": 69,
   "id": "1540acdf",
   "metadata": {},
   "outputs": [],
   "source": [
    "# execute the query in the request\n",
    "response = request.execute()"
   ]
  },
  {
   "cell_type": "code",
   "execution_count": 71,
   "id": "f688a610",
   "metadata": {},
   "outputs": [
    {
     "name": "stdout",
     "output_type": "stream",
     "text": [
      "Search ID:  {'kind': 'youtube#video', 'videoId': 'hKllMekE7vU'}\n",
      "\n",
      "Snippet Data: {'publishedAt': '2023-11-22T22:00:15Z', 'channelId': 'UCDSfK-fHq5T1DJl-d2DXyfg', 'title': 'Their BEEF Only Got WORSE After This 1v1… | Dreko vs Chauncey', 'description': 'Previously Chauncey & Dreko had faced off in a 1v1 to 13... Last time, Chauncey emerged victorious leaving Dreko waiting on the ...', 'thumbnails': {'default': {'url': 'https://i.ytimg.com/vi/hKllMekE7vU/default.jpg', 'width': 120, 'height': 90}, 'medium': {'url': 'https://i.ytimg.com/vi/hKllMekE7vU/mqdefault.jpg', 'width': 320, 'height': 180}, 'high': {'url': 'https://i.ytimg.com/vi/hKllMekE7vU/hqdefault.jpg', 'width': 480, 'height': 360}}, 'channelTitle': 'The Next Chapter', 'liveBroadcastContent': 'none', 'publishTime': '2023-11-22T22:00:15Z'}\n",
      "1 : https://www.youtube.com/watch?v=hKllMekE7vU\n",
      "2023-11-22T22:00:15Z\n",
      "2 : https://www.youtube.com/watch?v=C0jNRMv1JsI\n",
      "2023-11-22T22:30:11Z\n",
      "3 : https://www.youtube.com/watch?v=SRsF2sKfJzc\n",
      "2023-11-22T02:30:10Z\n",
      "4 : https://www.youtube.com/watch?v=AiMeSlnt8uY\n",
      "2023-11-24T21:14:35Z\n",
      "5 : https://www.youtube.com/watch?v=st1Ig_6-zHc\n",
      "2023-11-24T23:00:35Z\n",
      "6 : https://www.youtube.com/watch?v=Xg_jQCWL0XI\n",
      "2023-11-24T02:04:50Z\n",
      "7 : https://www.youtube.com/watch?v=A3NGtT-yeKk\n",
      "2023-11-23T18:08:44Z\n",
      "8 : https://www.youtube.com/watch?v=mQgyemhvk3s\n",
      "2023-11-22T23:12:56Z\n",
      "9 : https://www.youtube.com/watch?v=5XUTz2plOOk\n",
      "2023-11-22T16:00:07Z\n",
      "10 : https://www.youtube.com/watch?v=ohlvp58_z00\n",
      "2023-11-22T23:55:34Z\n",
      "11 : https://www.youtube.com/watch?v=yn8n9PM_ZnE\n",
      "2023-11-28T00:30:11Z\n",
      "12 : https://www.youtube.com/watch?v=l71sq5hx0Xk\n",
      "2023-11-22T11:01:41Z\n",
      "13 : https://www.youtube.com/watch?v=1i12DmGGm_o\n",
      "2023-11-22T03:53:16Z\n",
      "14 : https://www.youtube.com/watch?v=y_RXKagrlwM\n",
      "2023-11-24T02:00:32Z\n",
      "15 : https://www.youtube.com/watch?v=C2zSnZm7mPQ\n",
      "2023-11-22T19:00:05Z\n",
      "16 : https://www.youtube.com/watch?v=4V6FPPO2G-4\n",
      "2023-11-24T13:23:58Z\n",
      "17 : https://www.youtube.com/watch?v=kMrz6MLlNUI\n",
      "2023-11-24T21:36:20Z\n",
      "18 : https://www.youtube.com/watch?v=bKsoJdu--O4\n",
      "2023-11-24T19:57:37Z\n",
      "19 : https://www.youtube.com/watch?v=IGv2tGjmx-c\n",
      "2023-11-23T03:30:08Z\n",
      "{'publishedAt': '2023-11-28T15:55:35Z', 'channelId': 'UCQ2qZpAcyd9EOm4g9fyfB5A', 'title': 'Lucas vs. South Central Basketball Girls | 11/28/2023', 'description': 'LIVE STREAMING Lucas vs. South Central Basketball Girls | 11/28/2023 LIVE ON @ https://bit.ly/3TNGN3q Today Ohio High ...', 'thumbnails': {'default': {'url': 'https://i.ytimg.com/vi/K2yJPAP4Su4/default.jpg', 'width': 120, 'height': 90}, 'medium': {'url': 'https://i.ytimg.com/vi/K2yJPAP4Su4/mqdefault.jpg', 'width': 320, 'height': 180}, 'high': {'url': 'https://i.ytimg.com/vi/K2yJPAP4Su4/hqdefault.jpg', 'width': 480, 'height': 360}}, 'channelTitle': 'Etna SportsStreaming4k', 'liveBroadcastContent': 'none', 'publishTime': '2023-11-28T15:55:35Z'}\n",
      "{'publishedAt': '2023-11-28T11:48:07Z', 'channelId': 'UCef2I73FEH-rQkx4ylbxScQ', 'title': 'LIVE : Hazel Park at. Pontiac | Michigan High School Basketball | November 28, 2023', 'description': 'Live Stream Hazel Park vs Pontiac ...', 'thumbnails': {'default': {'url': 'https://i.ytimg.com/vi/4GpPQ4QL3Wc/default.jpg', 'width': 120, 'height': 90}, 'medium': {'url': 'https://i.ytimg.com/vi/4GpPQ4QL3Wc/mqdefault.jpg', 'width': 320, 'height': 180}, 'high': {'url': 'https://i.ytimg.com/vi/4GpPQ4QL3Wc/hqdefault.jpg', 'width': 480, 'height': 360}}, 'channelTitle': 'AK Sport hd28', 'liveBroadcastContent': 'none', 'publishTime': '2023-11-28T11:48:07Z'}\n",
      "20 : https://www.youtube.com/watch?v=RpBfhOhWfu8\n",
      "2023-11-23T00:33:10Z\n",
      "{'publishedAt': '2023-11-28T11:47:26Z', 'channelId': 'UCef2I73FEH-rQkx4ylbxScQ', 'title': 'LIVE : Hazel Park vs. Pontiac | Michigan High School Basketball | November 28, 2023', 'description': 'Live Stream Hazel Park vs Pontiac ...', 'thumbnails': {'default': {'url': 'https://i.ytimg.com/vi/4GpPQ4QL3Wc/default.jpg', 'width': 120, 'height': 90}, 'medium': {'url': 'https://i.ytimg.com/vi/4GpPQ4QL3Wc/mqdefault.jpg', 'width': 320, 'height': 180}, 'high': {'url': 'https://i.ytimg.com/vi/4GpPQ4QL3Wc/hqdefault.jpg', 'width': 480, 'height': 360}}, 'channelTitle': 'AK Sport hd28', 'liveBroadcastContent': 'none', 'publishTime': '2023-11-28T11:47:26Z'}\n",
      "21 : https://www.youtube.com/watch?v=9n9FrI5Wqys\n",
      "2023-11-25T07:47:25Z\n",
      "22 : https://www.youtube.com/watch?v=9RjJEgxntuY\n",
      "2023-11-24T13:25:18Z\n",
      "23 : https://www.youtube.com/watch?v=RMZc0QChcX0\n",
      "2023-11-23T19:11:40Z\n",
      "24 : https://www.youtube.com/watch?v=xHLRW7iDSt8\n",
      "2023-11-24T11:01:25Z\n",
      "25 : https://www.youtube.com/watch?v=4ks-AIlqUIU\n",
      "2023-11-24T01:02:32Z\n",
      "26 : https://www.youtube.com/watch?v=SEosdtHPGCM\n",
      "2023-11-22T17:23:52Z\n",
      "27 : https://www.youtube.com/watch?v=GR9gfs1Se84\n",
      "2023-11-25T00:30:08Z\n",
      "28 : https://www.youtube.com/watch?v=vUEANdQoKK0\n",
      "2023-11-22T05:28:23Z\n",
      "29 : https://www.youtube.com/watch?v=hRcD0LsiGFU\n",
      "2023-11-25T00:46:51Z\n",
      "30 : https://www.youtube.com/watch?v=_2sakDSJF4Y\n",
      "2023-11-23T16:23:41Z\n",
      "31 : https://www.youtube.com/watch?v=aWIUkMkeYJY\n",
      "2023-11-25T16:10:54Z\n",
      "32 : https://www.youtube.com/watch?v=BTWg5WxVYGw\n",
      "2023-11-25T05:18:18Z\n",
      "33 : https://www.youtube.com/watch?v=o0N42BXfqS8\n",
      "2023-11-22T03:00:32Z\n",
      "34 : https://www.youtube.com/watch?v=LTJ_xXQvhw4\n",
      "2023-11-25T02:21:08Z\n",
      "35 : https://www.youtube.com/watch?v=Xl7Z8Fq86jU\n",
      "2023-11-23T07:01:20Z\n",
      "{'publishedAt': '2023-11-22T08:58:44Z', 'channelId': 'UCnKP_fchDXxVX6mzTrOmKjQ', 'title': 'Rmahd2high', 'description': '', 'thumbnails': {'default': {'url': 'https://yt3.ggpht.com/j9Z2jAex1V9DB2nBCRKKBq5HplsB0iKe1nDTRdvl5qkYAekZESOrN5f8tWcd9inm2eLpUqUJ=s88-c-k-c0xffffffff-no-rj-mo'}, 'medium': {'url': 'https://yt3.ggpht.com/j9Z2jAex1V9DB2nBCRKKBq5HplsB0iKe1nDTRdvl5qkYAekZESOrN5f8tWcd9inm2eLpUqUJ=s240-c-k-c0xffffffff-no-rj-mo'}, 'high': {'url': 'https://yt3.ggpht.com/j9Z2jAex1V9DB2nBCRKKBq5HplsB0iKe1nDTRdvl5qkYAekZESOrN5f8tWcd9inm2eLpUqUJ=s800-c-k-c0xffffffff-no-rj-mo'}}, 'channelTitle': 'Rmahd2high', 'liveBroadcastContent': 'none', 'publishTime': '2023-11-22T08:58:44Z'}\n",
      "36 : https://www.youtube.com/watch?v=eY6-RaoiCgU\n",
      "2023-11-22T19:29:11Z\n",
      "37 : https://www.youtube.com/watch?v=ADbmgqpl7YY\n",
      "2023-11-23T00:17:05Z\n",
      "38 : https://www.youtube.com/watch?v=5Ve97iPbBRM\n",
      "2023-11-25T01:46:52Z\n",
      "39 : https://www.youtube.com/watch?v=GlSTud4SGaI\n",
      "2023-11-28T22:00:01Z\n",
      "40 : https://www.youtube.com/watch?v=fHSzqNw35Ks\n",
      "2023-11-23T22:47:02Z\n",
      "41 : https://www.youtube.com/watch?v=hyGQz93EtRs\n",
      "2023-11-24T00:00:20Z\n",
      "42 : https://www.youtube.com/watch?v=WL8c740JQSw\n",
      "2023-11-23T00:39:53Z\n",
      "43 : https://www.youtube.com/watch?v=lXOBXD2VL2w\n",
      "2023-11-23T20:49:43Z\n",
      "44 : https://www.youtube.com/watch?v=r7iyE7mJyfk\n",
      "2023-11-23T04:14:48Z\n",
      "45 : https://www.youtube.com/watch?v=YdHMtz4DbX4\n",
      "2023-11-24T23:19:55Z\n",
      "46 : https://www.youtube.com/watch?v=ZsrpYYpTauw\n",
      "2023-11-23T18:14:35Z\n"
     ]
    }
   ],
   "source": [
    "#   for(var i in results.items) {\n",
    "#     var item = results.items[i];\n",
    "#     Logger.log('[%s] Title: %s', item.id.videoId, item.snippet.title);\n",
    "#   }\n",
    "print(\"Search ID: \", response[\"items\"][0]['id'])\n",
    "print(\"\\nSnippet Data:\",response[\"items\"][0]['snippet'])\n",
    "videoIDs = []\n",
    "videos = response[\"items\"]\n",
    "count = 1\n",
    "for video in videos:\n",
    "    if('videoId' in video['id']):\n",
    "        print(count, \": https://www.youtube.com/watch?v=\" + video['id']['videoId'])\n",
    "        videoIDs.append(video['id']['videoId'])\n",
    "        print(video['snippet']['publishedAt'])\n",
    "        count = count+1\n",
    "    else: \n",
    "        # this seems to only print out channels meaning the youtube search only returns videos & channels\n",
    "        print(video['snippet'])"
   ]
  },
  {
   "cell_type": "markdown",
   "id": "6d81db62",
   "metadata": {},
   "source": [
    "## Calculate and Find top 10 most trending videos under that tag"
   ]
  },
  {
   "cell_type": "code",
   "execution_count": 72,
   "id": "0ec63925",
   "metadata": {},
   "outputs": [],
   "source": [
    "collection_of_video_data = {}\n",
    "for video in videos:\n",
    "    if('videoId' in video['id']):\n",
    "        request = youtube.videos().list(part = 'snippet, statistics', id = video['id']['videoId'])\n",
    "        response = request.execute()\n",
    "        collection_of_video_data[video['id']['videoId']] = response"
   ]
  },
  {
   "cell_type": "code",
   "execution_count": 73,
   "id": "11888a87",
   "metadata": {},
   "outputs": [
    {
     "name": "stdout",
     "output_type": "stream",
     "text": [
      "Statistics:  {'viewCount': '148666', 'likeCount': '8690', 'favoriteCount': '0', 'commentCount': '931'}\n",
      "1 : Trend Total:  158287\n",
      "Statistics:  {'viewCount': '55786', 'likeCount': '2161', 'favoriteCount': '0', 'commentCount': '66'}\n",
      "2 : Trend Total:  58013\n",
      "Statistics:  {'viewCount': '13993', 'likeCount': '451', 'favoriteCount': '0', 'commentCount': '111'}\n",
      "3 : Trend Total:  14555\n",
      "Statistics:  {'viewCount': '1', 'likeCount': '0', 'favoriteCount': '0', 'commentCount': '0'}\n",
      "4 : Trend Total:  1\n",
      "Statistics:  {'viewCount': '106746', 'likeCount': '3590', 'favoriteCount': '0', 'commentCount': '838'}\n",
      "5 : Trend Total:  111174\n",
      "Statistics:  {'viewCount': '60', 'favoriteCount': '0', 'commentCount': '0'}\n",
      "6 : Trend Total:  60\n",
      "Statistics:  {'viewCount': '733', 'likeCount': '19', 'favoriteCount': '0', 'commentCount': '5'}\n",
      "7 : Trend Total:  757\n",
      "Statistics:  {'viewCount': '2741', 'likeCount': '40', 'favoriteCount': '0', 'commentCount': '3'}\n",
      "8 : Trend Total:  2784\n",
      "Statistics:  {'viewCount': '89', 'likeCount': '3', 'favoriteCount': '0', 'commentCount': '1'}\n",
      "9 : Trend Total:  93\n",
      "Statistics:  {'viewCount': '631', 'likeCount': '13', 'favoriteCount': '0', 'commentCount': '3'}\n",
      "10 : Trend Total:  647\n",
      "Statistics:  {'viewCount': '1615', 'likeCount': '104', 'favoriteCount': '0', 'commentCount': '29'}\n",
      "11 : Trend Total:  1748\n",
      "Statistics:  {'viewCount': '13', 'likeCount': '0', 'favoriteCount': '0', 'commentCount': '0'}\n",
      "12 : Trend Total:  13\n",
      "Statistics:  {'viewCount': '19658', 'likeCount': '211', 'favoriteCount': '0', 'commentCount': '22'}\n",
      "13 : Trend Total:  19891\n",
      "Statistics:  {'viewCount': '86', 'likeCount': '1', 'favoriteCount': '0', 'commentCount': '0'}\n",
      "14 : Trend Total:  87\n",
      "Statistics:  {'viewCount': '1738', 'likeCount': '15', 'favoriteCount': '0', 'commentCount': '6'}\n",
      "15 : Trend Total:  1759\n",
      "Statistics:  {'viewCount': '446', 'likeCount': '8', 'favoriteCount': '0', 'commentCount': '3'}\n",
      "16 : Trend Total:  457\n",
      "Statistics:  {'viewCount': '28084', 'likeCount': '579', 'favoriteCount': '0', 'commentCount': '72'}\n",
      "17 : Trend Total:  28735\n",
      "Statistics:  {'viewCount': '5021', 'likeCount': '182', 'favoriteCount': '0', 'commentCount': '13'}\n",
      "18 : Trend Total:  5216\n",
      "Statistics:  {'viewCount': '322', 'likeCount': '22', 'favoriteCount': '0', 'commentCount': '13'}\n",
      "19 : Trend Total:  357\n",
      "Statistics:  {'viewCount': '2494', 'favoriteCount': '0', 'commentCount': '7'}\n",
      "20 : Trend Total:  2501\n",
      "Statistics:  {'viewCount': '2', 'likeCount': '0', 'favoriteCount': '0', 'commentCount': '0'}\n",
      "21 : Trend Total:  2\n",
      "Statistics:  {'viewCount': '11', 'likeCount': '0', 'favoriteCount': '0', 'commentCount': '0'}\n",
      "22 : Trend Total:  11\n",
      "Statistics:  {'viewCount': '64', 'likeCount': '3', 'favoriteCount': '0', 'commentCount': '3'}\n",
      "23 : Trend Total:  70\n",
      "Statistics:  {'viewCount': '172', 'likeCount': '5', 'favoriteCount': '0', 'commentCount': '0'}\n",
      "24 : Trend Total:  177\n",
      "Statistics:  {'viewCount': '318491', 'likeCount': '9909', 'favoriteCount': '0', 'commentCount': '508'}\n",
      "25 : Trend Total:  328908\n",
      "Statistics:  {'viewCount': '957', 'likeCount': '16', 'favoriteCount': '0', 'commentCount': '0'}\n",
      "26 : Trend Total:  973\n",
      "Statistics:  {'viewCount': '42', 'likeCount': '3', 'favoriteCount': '0', 'commentCount': '0'}\n",
      "27 : Trend Total:  45\n",
      "Statistics:  {'viewCount': '1151939', 'likeCount': '11905', 'favoriteCount': '0', 'commentCount': '1028'}\n",
      "28 : Trend Total:  1164872\n",
      "Statistics:  {'viewCount': '47331', 'likeCount': '2204', 'favoriteCount': '0', 'commentCount': '161'}\n",
      "29 : Trend Total:  49696\n",
      "Statistics:  {'viewCount': '97', 'likeCount': '2', 'favoriteCount': '0', 'commentCount': '0'}\n",
      "30 : Trend Total:  99\n",
      "Statistics:  {'viewCount': '115223', 'likeCount': '2650', 'favoriteCount': '0', 'commentCount': '91'}\n",
      "31 : Trend Total:  117964\n",
      "Statistics:  {'viewCount': '45', 'likeCount': '1', 'favoriteCount': '0', 'commentCount': '0'}\n",
      "32 : Trend Total:  46\n",
      "Statistics:  {'viewCount': '77', 'favoriteCount': '0', 'commentCount': '1'}\n",
      "33 : Trend Total:  78\n",
      "Statistics:  {'viewCount': '17', 'likeCount': '2', 'favoriteCount': '0', 'commentCount': '0'}\n",
      "34 : Trend Total:  19\n",
      "Statistics:  {'viewCount': '10', 'likeCount': '0', 'favoriteCount': '0', 'commentCount': '0'}\n",
      "35 : Trend Total:  10\n",
      "Statistics:  {'viewCount': '178129', 'likeCount': '8618', 'favoriteCount': '0', 'commentCount': '303'}\n",
      "36 : Trend Total:  187050\n",
      "Statistics:  {'viewCount': '30', 'likeCount': '3', 'favoriteCount': '0', 'commentCount': '0'}\n",
      "37 : Trend Total:  33\n",
      "Statistics:  {'viewCount': '95', 'likeCount': '3', 'favoriteCount': '0', 'commentCount': '0'}\n",
      "38 : Trend Total:  98\n",
      "Statistics:  {'viewCount': '47864', 'likeCount': '2417', 'favoriteCount': '0', 'commentCount': '99'}\n",
      "39 : Trend Total:  50380\n",
      "Statistics:  {'viewCount': '1826', 'likeCount': '22', 'favoriteCount': '0', 'commentCount': '1'}\n",
      "40 : Trend Total:  1849\n",
      "Statistics:  {'viewCount': '12', 'likeCount': '1', 'favoriteCount': '0', 'commentCount': '0'}\n",
      "41 : Trend Total:  13\n",
      "Statistics:  {'viewCount': '332', 'likeCount': '6', 'favoriteCount': '0'}\n",
      "42 : Trend Total:  338\n",
      "Statistics:  {'viewCount': '64', 'likeCount': '5', 'favoriteCount': '0', 'commentCount': '7'}\n",
      "43 : Trend Total:  76\n",
      "Statistics:  {'viewCount': '0', 'likeCount': '0', 'favoriteCount': '0', 'commentCount': '0'}\n",
      "44 : Trend Total:  0\n",
      "Statistics:  {'viewCount': '251011', 'likeCount': '15090', 'favoriteCount': '0', 'commentCount': '554'}\n",
      "45 : Trend Total:  266655\n",
      "Statistics:  {'viewCount': '104', 'likeCount': '9', 'favoriteCount': '0', 'commentCount': '4'}\n",
      "46 : Trend Total:  117\n"
     ]
    }
   ],
   "source": [
    "set_of_trend_totals = []\n",
    "count = 1\n",
    "for vid_data in collection_of_video_data:\n",
    "#     print(count, ':', collection_of_video_data[vid_data])\n",
    "    print(\"Statistics: \", collection_of_video_data[vid_data]['items'][0]['statistics'])\n",
    "    \n",
    "    trendTotal = 0\n",
    "    if \"viewCount\" in collection_of_video_data[vid_data]['items'][0]['statistics']:\n",
    "        views = collection_of_video_data[vid_data]['items'][0]['statistics']['viewCount']\n",
    "        trendTotal = trendTotal + int(views)\n",
    "    if \"likeCount\" in collection_of_video_data[vid_data]['items'][0]['statistics']:\n",
    "        likes = collection_of_video_data[vid_data]['items'][0]['statistics']['likeCount']\n",
    "        trendTotal = trendTotal + int(likes)\n",
    "    if \"commentCount\" in collection_of_video_data[vid_data]['items'][0]['statistics']:\n",
    "        comments = collection_of_video_data[vid_data]['items'][0]['statistics']['commentCount']\n",
    "        trendTotal = trendTotal + int(comments)\n",
    "\n",
    "    set_of_trend_totals.append(trendTotal)\n",
    "    print(count, ': Trend Total: ', trendTotal)\n",
    "    count = count+1"
   ]
  },
  {
   "cell_type": "code",
   "execution_count": 74,
   "id": "21c08628",
   "metadata": {},
   "outputs": [
    {
     "name": "stdout",
     "output_type": "stream",
     "text": [
      "videoID: trendTotal -->  hKllMekE7vU: 158287\n",
      "videoID: trendTotal -->  C0jNRMv1JsI: 58013\n",
      "videoID: trendTotal -->  SRsF2sKfJzc: 14555\n",
      "videoID: trendTotal -->  AiMeSlnt8uY: 1\n",
      "videoID: trendTotal -->  st1Ig_6-zHc: 111174\n",
      "videoID: trendTotal -->  Xg_jQCWL0XI: 60\n",
      "videoID: trendTotal -->  A3NGtT-yeKk: 757\n",
      "videoID: trendTotal -->  mQgyemhvk3s: 2784\n",
      "videoID: trendTotal -->  5XUTz2plOOk: 93\n",
      "videoID: trendTotal -->  ohlvp58_z00: 647\n",
      "videoID: trendTotal -->  yn8n9PM_ZnE: 1748\n",
      "videoID: trendTotal -->  l71sq5hx0Xk: 13\n",
      "videoID: trendTotal -->  1i12DmGGm_o: 19891\n",
      "videoID: trendTotal -->  y_RXKagrlwM: 87\n",
      "videoID: trendTotal -->  C2zSnZm7mPQ: 1759\n",
      "videoID: trendTotal -->  4V6FPPO2G-4: 457\n",
      "videoID: trendTotal -->  kMrz6MLlNUI: 28735\n",
      "videoID: trendTotal -->  bKsoJdu--O4: 5216\n",
      "videoID: trendTotal -->  IGv2tGjmx-c: 357\n",
      "videoID: trendTotal -->  RpBfhOhWfu8: 2501\n",
      "videoID: trendTotal -->  9n9FrI5Wqys: 2\n",
      "videoID: trendTotal -->  9RjJEgxntuY: 11\n",
      "videoID: trendTotal -->  RMZc0QChcX0: 70\n",
      "videoID: trendTotal -->  xHLRW7iDSt8: 177\n",
      "videoID: trendTotal -->  4ks-AIlqUIU: 328908\n",
      "videoID: trendTotal -->  SEosdtHPGCM: 973\n",
      "videoID: trendTotal -->  GR9gfs1Se84: 45\n",
      "videoID: trendTotal -->  vUEANdQoKK0: 1164872\n",
      "videoID: trendTotal -->  hRcD0LsiGFU: 49696\n",
      "videoID: trendTotal -->  _2sakDSJF4Y: 99\n",
      "videoID: trendTotal -->  aWIUkMkeYJY: 117964\n",
      "videoID: trendTotal -->  BTWg5WxVYGw: 46\n",
      "videoID: trendTotal -->  o0N42BXfqS8: 78\n",
      "videoID: trendTotal -->  LTJ_xXQvhw4: 19\n",
      "videoID: trendTotal -->  Xl7Z8Fq86jU: 10\n",
      "videoID: trendTotal -->  eY6-RaoiCgU: 187050\n",
      "videoID: trendTotal -->  ADbmgqpl7YY: 33\n",
      "videoID: trendTotal -->  5Ve97iPbBRM: 98\n",
      "videoID: trendTotal -->  GlSTud4SGaI: 50380\n",
      "videoID: trendTotal -->  fHSzqNw35Ks: 1849\n",
      "videoID: trendTotal -->  hyGQz93EtRs: 13\n",
      "videoID: trendTotal -->  WL8c740JQSw: 338\n",
      "videoID: trendTotal -->  lXOBXD2VL2w: 76\n",
      "videoID: trendTotal -->  r7iyE7mJyfk: 0\n",
      "videoID: trendTotal -->  YdHMtz4DbX4: 266655\n",
      "videoID: trendTotal -->  ZsrpYYpTauw: 117\n"
     ]
    }
   ],
   "source": [
    "count = 0\n",
    "video_id_to_trend_total = {}\n",
    "for video in videoIDs:\n",
    "    print('videoID: trendTotal --> ', video, end = \": \")\n",
    "    print(set_of_trend_totals[count])\n",
    "    video_id_to_trend_total[video] = set_of_trend_totals[count]\n",
    "    count = count + 1\n",
    "    \n",
    "# for video in video_id_to_trend_total:\n",
    "#     print(video, \":\", video_id_to_trend_total[video])"
   ]
  },
  {
   "cell_type": "code",
   "execution_count": null,
   "id": "9452e028",
   "metadata": {},
   "outputs": [],
   "source": []
  }
 ],
 "metadata": {
  "kernelspec": {
   "display_name": "cs122",
   "language": "python",
   "name": "cs122"
  },
  "language_info": {
   "codemirror_mode": {
    "name": "ipython",
    "version": 3
   },
   "file_extension": ".py",
   "mimetype": "text/x-python",
   "name": "python",
   "nbconvert_exporter": "python",
   "pygments_lexer": "ipython3",
   "version": "3.10.12"
  }
 },
 "nbformat": 4,
 "nbformat_minor": 5
}
